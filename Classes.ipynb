{
 "cells": [
  {
   "cell_type": "markdown",
   "id": "8f0c9dfd",
   "metadata": {},
   "source": [
    "# Classes"
   ]
  },
  {
   "cell_type": "code",
   "execution_count": 1,
   "id": "64c564de",
   "metadata": {},
   "outputs": [],
   "source": [
    "# Classes : blueprint for creating new objects\n",
    "# Objects : instance of a class\n",
    "\n",
    "# Class : Human\n",
    "# Objects : John, Mani, Arun, etc"
   ]
  },
  {
   "cell_type": "code",
   "execution_count": 5,
   "id": "67026e22",
   "metadata": {},
   "outputs": [
    {
     "name": "stdout",
     "output_type": "stream",
     "text": [
      "draw\n",
      "<class '__main__.Point'>\n",
      "True\n",
      "False\n"
     ]
    }
   ],
   "source": [
    "class Point:\n",
    "    def draw(self):\n",
    "        print(\"draw\")\n",
    "        \n",
    "p = Point()\n",
    "\n",
    "p.draw()\n",
    "print(type(p))\n",
    "print(isinstance(p, Point))\n",
    "print(isinstance(p, str))"
   ]
  },
  {
   "cell_type": "markdown",
   "id": "376ae60f",
   "metadata": {},
   "source": [
    "# Constructors"
   ]
  },
  {
   "cell_type": "code",
   "execution_count": 9,
   "id": "e292072c",
   "metadata": {},
   "outputs": [],
   "source": [
    "# self - # Is the reference to the current p object\n",
    "        # Also call attributes in object and methods in object"
   ]
  },
  {
   "cell_type": "code",
   "execution_count": 8,
   "id": "4251b02b",
   "metadata": {},
   "outputs": [
    {
     "name": "stdout",
     "output_type": "stream",
     "text": [
      "1\n",
      "2\n"
     ]
    }
   ],
   "source": [
    "class Point:\n",
    "    def __init__(self, x, y):\n",
    "        self.x = x\n",
    "        self.y = y\n",
    "    \n",
    "    def draw(self):\n",
    "        print(\"draw\")\n",
    "        \n",
    "\n",
    "p = Point(1, 2)\n",
    "print(p.x)        # see now get 1 and 2 for x and y. bcoz self refers to current p object\n",
    "print(p.y)"
   ]
  },
  {
   "cell_type": "code",
   "execution_count": 11,
   "id": "82e38e95",
   "metadata": {},
   "outputs": [
    {
     "name": "stdout",
     "output_type": "stream",
     "text": [
      "Point (1, 2)\n"
     ]
    }
   ],
   "source": [
    "class Point:\n",
    "    def __init__(self, x, y):\n",
    "        self.x = x\n",
    "        self.y = y\n",
    "    \n",
    "    def draw(self):\n",
    "        print(f\"Point ({self.x}, {self.y})\")\n",
    "        \n",
    "\n",
    "p = Point(1, 2)\n",
    "p.draw()"
   ]
  },
  {
   "cell_type": "markdown",
   "id": "950d28e5",
   "metadata": {},
   "source": [
    "# Classes vs Instance Attributes"
   ]
  },
  {
   "cell_type": "code",
   "execution_count": 16,
   "id": "edf4c882",
   "metadata": {},
   "outputs": [
    {
     "name": "stdout",
     "output_type": "stream",
     "text": [
      "(1, 2)\n",
      "(3, 4)\n"
     ]
    }
   ],
   "source": [
    "class Point:\n",
    "    def __init__(self, x, y):\n",
    "        self.x = x\n",
    "        self.y = y\n",
    "        \n",
    "    def draw(self):\n",
    "        print(f\"({self.x}, {self.y})\")\n",
    "        \n",
    "p = Point(1,2)\n",
    "p.z = 10  # bcoz obj is dynamic\n",
    "p.draw()\n",
    "\n",
    "p1 = Point(3,4)  # Like all humans are having 2 eyes and 2 ears\n",
    "p1.draw()"
   ]
  },
  {
   "cell_type": "code",
   "execution_count": 20,
   "id": "e397092a",
   "metadata": {},
   "outputs": [
    {
     "name": "stdout",
     "output_type": "stream",
     "text": [
      "yellow\n",
      "yellow\n",
      "(1, 2)\n",
      "(3, 4)\n",
      "yellow\n"
     ]
    }
   ],
   "source": [
    "class Point:\n",
    "    default_color = \"red\" # class attribute - it shared among all the instance of a class\n",
    "    \n",
    "    def __init__(self, x, y):\n",
    "        self.x = x\n",
    "        self.y = y\n",
    "        \n",
    "    def draw(self):\n",
    "        print(f\"({self.x}, {self.y})\")\n",
    "\n",
    "Point.default_color = \"yellow\"\n",
    "p = Point(1,2)\n",
    "print(p.default_color)\n",
    "print(Point.default_color)\n",
    "p.draw()\n",
    "\n",
    "p1 = Point(3,4) \n",
    "p1.draw()\n",
    "print(p1.default_color)"
   ]
  },
  {
   "cell_type": "markdown",
   "id": "4543b990",
   "metadata": {},
   "source": [
    "# Class vs InstanceMethods"
   ]
  },
  {
   "cell_type": "code",
   "execution_count": 22,
   "id": "aaab0f55",
   "metadata": {},
   "outputs": [
    {
     "name": "stdout",
     "output_type": "stream",
     "text": [
      "(0, 0)\n"
     ]
    }
   ],
   "source": [
    "class Point:\n",
    "    def __init__(self, x, y):\n",
    "        self.x = x\n",
    "        self.y = y\n",
    "        \n",
    "    @classmethod\n",
    "    def zero(cls):\n",
    "        return cls(0,0)\n",
    "    \n",
    "    def draw(self):\n",
    "        print(f\"({self.x}, {self.y})\")\n",
    "        \n",
    "p = Point.zero()\n",
    "p.draw()"
   ]
  },
  {
   "cell_type": "markdown",
   "id": "173ae717",
   "metadata": {},
   "source": [
    "# Magic Methods"
   ]
  },
  {
   "cell_type": "raw",
   "id": "01a7cba4",
   "metadata": {},
   "source": [
    "__init__\n",
    "__str__\n",
    "\n",
    "so many like this"
   ]
  },
  {
   "cell_type": "code",
   "execution_count": 27,
   "id": "7beac42c",
   "metadata": {},
   "outputs": [
    {
     "name": "stdout",
     "output_type": "stream",
     "text": [
      "(1, 2)\n",
      "(1, 2)\n"
     ]
    }
   ],
   "source": [
    "class Point:\n",
    "    def __init__(self, x, y):\n",
    "        self.x = x\n",
    "        self.y = y\n",
    "        \n",
    "    def __str__(self):\n",
    "        return f\"({self.x}, {self.y})\"\n",
    "    \n",
    "    def draw(self):\n",
    "        print(f\"({self.x}, {self.y})\")\n",
    "        \n",
    "p = Point(1,2)\n",
    "print(p)\n",
    "print(str(p)) # see both are giving same results"
   ]
  },
  {
   "cell_type": "markdown",
   "id": "82e0a7ef",
   "metadata": {},
   "source": [
    "# Comparing Objects"
   ]
  },
  {
   "cell_type": "code",
   "execution_count": 28,
   "id": "cdf41a24",
   "metadata": {},
   "outputs": [
    {
     "name": "stdout",
     "output_type": "stream",
     "text": [
      "False\n"
     ]
    }
   ],
   "source": [
    "class Point:\n",
    "    def __init__(self, x, y):\n",
    "        self.x = x\n",
    "        self.y = y\n",
    "        \n",
    "    def __str__(self):\n",
    "        return f\"({self.x}, {self.y})\"\n",
    "    \n",
    "    def draw(self):\n",
    "        print(f\"({self.x}, {self.y})\")\n",
    "        \n",
    "p = Point(1,2)\n",
    "p1 = Point(3,4)\n",
    "\n",
    "print(p == p1)"
   ]
  },
  {
   "cell_type": "code",
   "execution_count": 31,
   "id": "9267eb40",
   "metadata": {},
   "outputs": [
    {
     "name": "stdout",
     "output_type": "stream",
     "text": [
      "True\n"
     ]
    }
   ],
   "source": [
    "class Point:\n",
    "    def __init__(self, x, y):\n",
    "        self.x = x\n",
    "        self.y = y\n",
    "        \n",
    "    def __eq__(self, p1):\n",
    "        return self.x == p1.x and self.y == p1.y\n",
    "    \n",
    "    def draw(self):\n",
    "        print(f\"({self.x}, {self.y})\")\n",
    "        \n",
    "p = Point(1,2)\n",
    "p1 = Point(1,2)\n",
    "\n",
    "print(p == p1)"
   ]
  },
  {
   "cell_type": "code",
   "execution_count": 38,
   "id": "eb97557b",
   "metadata": {},
   "outputs": [],
   "source": [
    "# It will never support for greater than operator"
   ]
  },
  {
   "cell_type": "code",
   "execution_count": 39,
   "id": "3d254bb2",
   "metadata": {},
   "outputs": [],
   "source": [
    "# So we use __gt__ as another magic method"
   ]
  },
  {
   "cell_type": "code",
   "execution_count": 41,
   "id": "f9aaf053",
   "metadata": {},
   "outputs": [
    {
     "name": "stdout",
     "output_type": "stream",
     "text": [
      "True\n"
     ]
    }
   ],
   "source": [
    "class Point:\n",
    "    def __init__(self, x, y):\n",
    "        self.x = x\n",
    "        self.y = y\n",
    "        \n",
    "    def __eq__(self, p1):\n",
    "        return self.x == p1.x and self.y == p1.y\n",
    "    \n",
    "    def __gt__(self, p1):\n",
    "        return self.x > p1.x and self.y > p1.y\n",
    "    \n",
    "        \n",
    "p = Point(10,5)\n",
    "p1 = Point(1,2)\n",
    "\n",
    "print(p > p1)"
   ]
  },
  {
   "cell_type": "markdown",
   "id": "3f07753a",
   "metadata": {},
   "source": [
    "# Performing Arithmetic Operators"
   ]
  },
  {
   "cell_type": "code",
   "execution_count": 44,
   "id": "10e98fe8",
   "metadata": {},
   "outputs": [
    {
     "name": "stdout",
     "output_type": "stream",
     "text": [
      "11\n",
      "7\n"
     ]
    }
   ],
   "source": [
    "class Point:\n",
    "    def __init__(self, x, y):\n",
    "        self.x = x\n",
    "        self.y = y\n",
    "        \n",
    "    def __add__(self, p1):\n",
    "        return Point(self.x + p1.x, self.y + p1.y)\n",
    "    \n",
    "        \n",
    "p = Point(10,5)\n",
    "p1 = Point(1,2)\n",
    "\n",
    "z = p + p1\n",
    "print(z.x)\n",
    "print(z.y)"
   ]
  },
  {
   "cell_type": "markdown",
   "id": "8d9bac4d",
   "metadata": {},
   "source": [
    "# Making Custom Containers"
   ]
  },
  {
   "cell_type": "code",
   "execution_count": 50,
   "id": "69d8d806",
   "metadata": {},
   "outputs": [
    {
     "name": "stdout",
     "output_type": "stream",
     "text": [
      "{'python': 3, 'c': 1}\n"
     ]
    }
   ],
   "source": [
    "class TagCloud:\n",
    "    def __init__(self):\n",
    "        self.tags = {}\n",
    "        \n",
    "    def add(self, tag):\n",
    "        self.tags[tag.lower()] = self.tags.get(tag.lower(), 0) + 1 # lowercase and uppercase is also accepted\n",
    "        \n",
    "cloud = TagCloud()\n",
    "cloud.add('Python')\n",
    "cloud.add('python')\n",
    "cloud.add('python')\n",
    "cloud.add('c')\n",
    "print(cloud.tags)"
   ]
  },
  {
   "cell_type": "code",
   "execution_count": 55,
   "id": "faa70f8d",
   "metadata": {},
   "outputs": [
    {
     "name": "stdout",
     "output_type": "stream",
     "text": [
      "{'python': 13, 'c': 1}\n"
     ]
    }
   ],
   "source": [
    "class TagCloud:\n",
    "    def __init__(self):\n",
    "        self.tags = {}\n",
    "        \n",
    "    def add(self, tag):\n",
    "        self.tags[tag.lower()] = self.tags.get(tag.lower(), 0) + 1 # lowercase and uppercase is also accepted\n",
    "        \n",
    "    def __getitem__(self, tag):\n",
    "        return self.tags[tag.lower(), 0]\n",
    "    \n",
    "    # def __setitem__(self, key, value) - syntax\n",
    "    def __setitem__(self, tag, count):\n",
    "        self.tags[tag.lower()] = count\n",
    "    \n",
    "    def __len__(self):\n",
    "        return len(self.tags)\n",
    "    \n",
    "    def __iter__(self):\n",
    "        return iter(self.tags)\n",
    "    \n",
    "        \n",
    "cloud = TagCloud()\n",
    "cloud['python'] = 10 # __getitem__\n",
    "len(cloud) # __len__\n",
    "cloud.add('Python')\n",
    "cloud.add('python')\n",
    "cloud.add('python')\n",
    "cloud.add('c')\n",
    "print(cloud.tags)"
   ]
  }
 ],
 "metadata": {
  "kernelspec": {
   "display_name": "Python 3 (ipykernel)",
   "language": "python",
   "name": "python3"
  },
  "language_info": {
   "codemirror_mode": {
    "name": "ipython",
    "version": 3
   },
   "file_extension": ".py",
   "mimetype": "text/x-python",
   "name": "python",
   "nbconvert_exporter": "python",
   "pygments_lexer": "ipython3",
   "version": "3.9.7"
  }
 },
 "nbformat": 4,
 "nbformat_minor": 5
}
